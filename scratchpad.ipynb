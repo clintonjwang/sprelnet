{
 "cells": [
  {
   "cell_type": "code",
   "execution_count": 172,
   "id": "b9ad7549",
   "metadata": {},
   "outputs": [],
   "source": [
    "import os, shutil, yaml, itertools, math, wandb, sys, json\n",
    "import numpy as np\n",
    "import importlib\n",
    "import re, math\n",
    "import cv2\n",
    "import matplotlib.pyplot as plt\n",
    "from pycocotools.coco import COCO\n",
    "from pycocotools.cocoeval import COCOeval\n",
    "import pycocotools.mask as cocomask\n",
    "import skimage.io as io\n",
    "import pylab\n",
    "%matplotlib inline\n",
    "import bitsandbytes as bnb\n",
    "osp = os.path\n",
    "pylab.rcParams['figure.figsize'] = (10.0, 8.0)\n",
    "\n",
    "import torch\n",
    "nn = torch.nn\n",
    "F = torch.nn.functional\n",
    "torch.backends.cudnn.deterministic = True\n",
    "torch.backends.cudnn.benchmark = True\n",
    "\n",
    "import sprelnet\n",
    "base_proj_dir = \"/data/vision/polina/users/clintonw/code/mmdet\"\n",
    "base_job_dir = \"/data/vision/polina/users/clintonw/code/mmdet/results\"\n",
    "mnist_grid_dir = \"/data/vision/polina/scratch/clintonw/datasets/mnist_grid\""
   ]
  },
  {
   "cell_type": "markdown",
   "id": "7590b629",
   "metadata": {
    "heading_collapsed": true
   },
   "source": [
    "## Interactive"
   ]
  },
  {
   "cell_type": "markdown",
   "id": "8e79e323",
   "metadata": {
    "hidden": true
   },
   "source": [
    "mnist.create_multi_MNIST_dataset()\n",
    "\n",
    "pixels.create_pixel_dataset();"
   ]
  },
  {
   "cell_type": "code",
   "execution_count": null,
   "id": "5f5cf101",
   "metadata": {
    "hidden": true
   },
   "outputs": [],
   "source": [
    "from sprelnet import train\n",
    "\n",
    "from sprelnet import util, losses, wab, visualize\n",
    "from sprelnet.data import mnist, pixels\n",
    "from sprelnet.networks.relations import get_relnet\n",
    "from sprelnet.networks.unet import get_unet\n",
    "from sprelnet.networks.adversarial import get_adv_sprelnet\n",
    "from sprelnet.networks.contrastive import get_contra_net\n",
    "from sprelnet.networks.patch_net import get_patch_net"
   ]
  },
  {
   "cell_type": "code",
   "execution_count": null,
   "id": "0708ab34",
   "metadata": {
    "hidden": true
   },
   "outputs": [],
   "source": [
    "ds = util.load_binary_file(pixel_ds_path)\n",
    "ds[\"datapoint loader\"]= lambda dp: (dp.sum(0, keepdim=True).cuda(), (dp != 0).float().cuda())\n",
    "util.save_binary_file(data=ds, path=pixel_ds_path)"
   ]
  },
  {
   "cell_type": "code",
   "execution_count": null,
   "id": "a8cd55ac",
   "metadata": {
    "hidden": true
   },
   "outputs": [],
   "source": [
    "import importlib\n",
    "importlib.reload(mnist)"
   ]
  },
  {
   "cell_type": "markdown",
   "id": "c9a0d4f7",
   "metadata": {
    "heading_collapsed": true,
    "hidden": true
   },
   "source": [
    "### dataset"
   ]
  },
  {
   "cell_type": "code",
   "execution_count": 12,
   "id": "e9c4f8a0",
   "metadata": {
    "hidden": true
   },
   "outputs": [],
   "source": [
    "coco_annot_json_dir = \"/data/vision/polina/scratch/clintonw/datasets/coco/annotations\"\n",
    "coco_annot_json_path = os.path.join(coco_annot_json_dir, \"instances_val2017.json\")\n",
    "with open(coco_annot_json_path, \"r\") as f:\n",
    "    out = json.load(f)"
   ]
  },
  {
   "cell_type": "code",
   "execution_count": 2,
   "id": "0692639c",
   "metadata": {
    "hidden": true
   },
   "outputs": [],
   "source": [
    "import os, wandb, shutil\n",
    "import numpy as np\n",
    "import torch\n",
    "import torchvision.datasets\n",
    "from pycocotools.coco import COCO\n",
    "import pycocotools.mask as cocomask\n",
    "\n",
    "from sprelnet import util\n",
    "\n",
    "ds_folder = '/data/vision/polina/scratch/clintonw/datasets'\n",
    "mnist_grid_dir = \"/data/vision/polina/scratch/clintonw/datasets/mnist_grid\""
   ]
  },
  {
   "cell_type": "code",
   "execution_count": 3,
   "id": "f84c61c7",
   "metadata": {
    "hidden": true
   },
   "outputs": [],
   "source": [
    "from sprelnet.data.mnist import *"
   ]
  },
  {
   "cell_type": "code",
   "execution_count": 5,
   "id": "69c38ca3",
   "metadata": {
    "hidden": true
   },
   "outputs": [],
   "source": [
    "from sprelnet.data import mnist"
   ]
  },
  {
   "cell_type": "code",
   "execution_count": 21,
   "id": "5ebea7eb",
   "metadata": {
    "hidden": true
   },
   "outputs": [],
   "source": [
    "digits_per_dim=(5,5)\n",
    "N_train=90\n",
    "N_val=10\n",
    "train_mnist, test_mnist = get_mnist()\n",
    "base_images = torch.cat([train_mnist[0], test_mnist[0]], 0)\n",
    "labels = torch.cat([train_mnist[1], test_mnist[1]], 0)\n",
    "category_names = get_multi_mnist_legend().keys()\n",
    "n_digits = np.prod(digits_per_dim)"
   ]
  },
  {
   "cell_type": "code",
   "execution_count": 23,
   "id": "fc1b2be4",
   "metadata": {
    "hidden": true
   },
   "outputs": [],
   "source": [
    "ann_id=0\n",
    "img_dir=os.path.join(mnist_grid_dir, \"train\")"
   ]
  },
  {
   "cell_type": "code",
   "execution_count": 14,
   "id": "22f58b94",
   "metadata": {
    "hidden": true
   },
   "outputs": [],
   "source": [
    "mnist.create_mnist_grid_coco_dataset(N_train=4000, N_val=1000)"
   ]
  },
  {
   "cell_type": "code",
   "execution_count": 8,
   "id": "998e449c",
   "metadata": {
    "hidden": true,
    "scrolled": true
   },
   "outputs": [
    {
     "name": "stdout",
     "output_type": "stream",
     "text": [
      "loading annotations into memory...\n",
      "Done (t=0.01s)\n",
      "creating index...\n",
      "index created!\n"
     ]
    }
   ],
   "source": [
    "annFile = os.path.join(mnist_grid_dir, \"train/annotation_coco.json\")\n",
    "coco = COCO(annFile)"
   ]
  },
  {
   "cell_type": "code",
   "execution_count": null,
   "id": "b098e0fd",
   "metadata": {
    "hidden": true
   },
   "outputs": [],
   "source": [
    "imgIds = [2]\n",
    "img = coco.loadImgs(imgIds)[0]\n",
    "\n",
    "# load and display image\n",
    "I = io.imread('%s/%s/%s'%(mnist_grid_dir,\"train\",img['file_name']), as_gray=True)\n",
    "# I = io.imread(img['coco_url'])\n",
    "plt.axis('off')\n",
    "plt.imshow(I, cmap=\"gray\")\n",
    "plt.show()"
   ]
  },
  {
   "cell_type": "code",
   "execution_count": null,
   "id": "1babc177",
   "metadata": {
    "hidden": true
   },
   "outputs": [],
   "source": [
    "# load and display instance annotations\n",
    "plt.imshow(I, cmap=\"gray\"); plt.axis('off')\n",
    "annIds = coco.getAnnIds(imgIds=img['id'], iscrowd=None)\n",
    "anns = coco.loadAnns(annIds)\n",
    "coco.showAnns(anns)\n",
    "# for i in anns:\n",
    "#     [x,y,w,h] = i['bbox']\n",
    "#     cv2.rectangle(I, (int(x), int(y)), (int(x+w), int(y+h)), 1., 1);\n",
    "#     #cv2.imshow(I)\n",
    "# plt.imshow(I, cmap=\"gray\"); plt.axis('off')"
   ]
  },
  {
   "cell_type": "code",
   "execution_count": null,
   "id": "c8b90327",
   "metadata": {
    "hidden": true
   },
   "outputs": [],
   "source": []
  },
  {
   "cell_type": "code",
   "execution_count": null,
   "id": "3cb06d65",
   "metadata": {
    "hidden": true
   },
   "outputs": [],
   "source": []
  },
  {
   "cell_type": "code",
   "execution_count": null,
   "id": "337c9955",
   "metadata": {
    "hidden": true
   },
   "outputs": [],
   "source": [
    "annType = ['segm','bbox','keypoints']\n",
    "annType = annType[1]      #specify type here\n",
    "prefix = 'person_keypoints' if annType=='keypoints' else 'instances'\n",
    "print('Running demo for *%s* results.'%(annType))"
   ]
  },
  {
   "cell_type": "code",
   "execution_count": null,
   "id": "62c6b97c",
   "metadata": {
    "hidden": true
   },
   "outputs": [],
   "source": [
    "#initialize COCO ground truth api\n",
    "dataDir='/data/vision/polina/scratch/clintonw/datasets/coco'\n",
    "dataType='val2017'\n",
    "annFile = '%s/annotations/%s_%s.json'%(dataDir,prefix,dataType)\n",
    "coco=cocoGt=COCO(annFile)"
   ]
  },
  {
   "cell_type": "code",
   "execution_count": null,
   "id": "1945dcc7",
   "metadata": {
    "hidden": true
   },
   "outputs": [],
   "source": [
    "cats = coco.loadCats(coco.getCatIds())\n",
    "nms=[cat['name'] for cat in cats]\n",
    "print('COCO categories: \\n{}\\n'.format(' '.join(nms)))\n",
    "\n",
    "nms = set([cat['supercategory'] for cat in cats])\n",
    "print('COCO supercategories: \\n{}'.format(' '.join(nms)))"
   ]
  },
  {
   "cell_type": "code",
   "execution_count": 91,
   "id": "a4ac2141",
   "metadata": {
    "hidden": true
   },
   "outputs": [],
   "source": [
    "# get all images containing given categories, select one at random\n",
    "catIds = coco.getCatIds(catNms=['person','dog','skateboard']);\n",
    "imgIds = coco.getImgIds(catIds=catIds );\n",
    "imgIds = coco.getImgIds(imgIds = [324158])\n",
    "img = coco.loadImgs(imgIds[np.random.randint(0,len(imgIds))])[0]"
   ]
  },
  {
   "cell_type": "code",
   "execution_count": null,
   "id": "2ef682bf",
   "metadata": {
    "hidden": true
   },
   "outputs": [],
   "source": []
  },
  {
   "cell_type": "code",
   "execution_count": 8,
   "id": "7782fb8d",
   "metadata": {
    "hidden": true
   },
   "outputs": [],
   "source": [
    "code_dir = \"/data/vision/polina/users/clintonw/code\"\n",
    "mmdet_dir = f\"{code_dir}/mmdet\""
   ]
  },
  {
   "cell_type": "code",
   "execution_count": null,
   "id": "c93af507",
   "metadata": {
    "hidden": true
   },
   "outputs": [],
   "source": [
    "job_name = \"yolov3_d53_fp16_mstrain-608_273e_coco\"\n",
    "model_type = \"yolo\"\n",
    "cfg = f\"configs/{model_type}/{job_name}.py\"\n",
    "work_dir = f\"/data/vision/polina/scratch/{job_name}\"\n",
    "print(f\"sh slurm_train.sh gpu {job_name} {cfg} {work_dir}\")"
   ]
  },
  {
   "cell_type": "code",
   "execution_count": null,
   "id": "1e64768a",
   "metadata": {
    "hidden": true
   },
   "outputs": [],
   "source": [
    "model_type = \"yolo\"\n",
    "job_name = \"yolov3_d53_fp16_mstrain-608_273e_coco\"\n",
    "chckpoint = f\"{code_dir}/mmdet/checkpoints/yolov3_d53_fp16_mstrain-608_273e_coco_20210517_213542-4bc34944.pth\"\n",
    "\n",
    "cfg = f\"configs/{model_type}/{job_name}.py\"\n",
    "res_path = f\"results/{job_name}.pkl\"\n",
    "print(f\"sh slurm_test.sh gpu {job_name} {cfg} {chckpoint} --out {res_path}\")"
   ]
  },
  {
   "cell_type": "code",
   "execution_count": 27,
   "id": "c509ae65",
   "metadata": {
    "hidden": true
   },
   "outputs": [
    {
     "name": "stdout",
     "output_type": "stream",
     "text": [
      "./tools/slurm_test.sh gpu faster_rcnn_r50_fpn_mstrain_3x_coco configs/faster_rcnn/faster_rcnn_r50_fpn_mstrain_3x_coco.py /data/vision/polina/users/clintonw/code/mmdet/checkpoints/faster_rcnn_r50_fpn_mstrain_3x_coco_20210524_110822-e10bd31c.pth --out results/faster_rcnn_r50_fpn_mstrain_3x_coco.pkl\n"
     ]
    }
   ],
   "source": [
    "model_type = \"faster_rcnn\"\n",
    "job_name = \"faster_rcnn_r50_fpn_mstrain_3x_coco\"\n",
    "chckpoint = f\"{code_dir}/mmdet/checkpoints/faster_rcnn_r50_fpn_mstrain_3x_coco_20210524_110822-e10bd31c.pth\"\n",
    "\n",
    "cfg = f\"configs/{model_type}/{job_name}.py\"\n",
    "res_path = f\"results/{job_name}.pkl\"\n",
    "print(f\"./tools/slurm_test.sh gpu {job_name} {cfg} {chckpoint} --out {res_path}\")"
   ]
  },
  {
   "cell_type": "code",
   "execution_count": 9,
   "id": "061966f8",
   "metadata": {
    "hidden": true
   },
   "outputs": [],
   "source": [
    "import dill as pickle\n",
    "import os"
   ]
  },
  {
   "cell_type": "code",
   "execution_count": 16,
   "id": "05b2e1df",
   "metadata": {
    "hidden": true,
    "scrolled": true
   },
   "outputs": [],
   "source": [
    "with open(os.path.join(mmdet_dir, res_path), \"rb\") as f:\n",
    "    out = pickle.load(f)"
   ]
  },
  {
   "cell_type": "code",
   "execution_count": 23,
   "id": "c356fd28",
   "metadata": {
    "hidden": true,
    "scrolled": true
   },
   "outputs": [
    {
     "data": {
      "text/plain": [
       "5000"
      ]
     },
     "execution_count": 23,
     "metadata": {},
     "output_type": "execute_result"
    }
   ],
   "source": [
    "len(out)"
   ]
  },
  {
   "cell_type": "code",
   "execution_count": 22,
   "id": "240d8c20",
   "metadata": {
    "hidden": true,
    "scrolled": true
   },
   "outputs": [
    {
     "data": {
      "text/plain": [
       "80"
      ]
     },
     "execution_count": 22,
     "metadata": {},
     "output_type": "execute_result"
    }
   ],
   "source": [
    "len(out[0])"
   ]
  },
  {
   "cell_type": "code",
   "execution_count": 30,
   "id": "e07418ce",
   "metadata": {
    "hidden": true
   },
   "outputs": [],
   "source": [
    "batch1 = out[0]"
   ]
  },
  {
   "cell_type": "code",
   "execution_count": null,
   "id": "d76f0cdf",
   "metadata": {
    "hidden": true
   },
   "outputs": [],
   "source": []
  },
  {
   "cell_type": "code",
   "execution_count": null,
   "id": "1e9ed48f",
   "metadata": {
    "hidden": true
   },
   "outputs": [],
   "source": [
    "GPUS=16 ./tools/slurm_test.sh gpu mask_r50_1x_test configs/mask_rcnn_r50_fpn_1x_coco.py /nfs/xxxx/mask_rcnn_r50_fpn_1x"
   ]
  },
  {
   "cell_type": "markdown",
   "id": "4a2b8e0c",
   "metadata": {
    "heading_collapsed": true,
    "hidden": true
   },
   "source": [
    "### sprelnet"
   ]
  },
  {
   "cell_type": "code",
   "execution_count": null,
   "id": "e745c413",
   "metadata": {
    "hidden": true
   },
   "outputs": [],
   "source": [
    "class cmd_args:\n",
    "    job_id = \"van_pix\"\n",
    "    config_path = f\"/data/vision/polina/users/clintonw/code/sprelnet/configs/{job_id}.yaml\"\n",
    "    p = f\"{util.base_job_dir}/{job_id}\"\n",
    "    if not os.path.exists(p):\n",
    "        os.makedirs(p)\n",
    "with open(cmd_args.config_path, 'r') as stream:\n",
    "    args = yaml.safe_load(stream)\n",
    "\n",
    "run, args = train.prep_run(cmd_args, args)\n",
    "\n",
    "if args[\"data loading\"][\"dataset\"] == \"MNIST grid\":\n",
    "    dataset = mnist.get_multi_mnist(run=run)\n",
    "elif args[\"data loading\"][\"dataset\"] == \"pixels\":\n",
    "    dataset = pixels.get_pixel_dataset(run=run)\n",
    "else:\n",
    "    raise NotImplementedError(\"bad dataset\")\n",
    "\n",
    "dataloaders = util.get_dataloaders(dataset, batch_size=args[\"data loading\"][\"batch size\"])"
   ]
  },
  {
   "cell_type": "code",
   "execution_count": null,
   "id": "50317964",
   "metadata": {
    "hidden": true
   },
   "outputs": [],
   "source": [
    "if args[\"network\"][\"type\"] in [\"adversarial\", \"vanilla\"]:\n",
    "    get_net_fxn = get_adv_sprelnet\n",
    "    train_fxn = train.train_main_relnet\n",
    "elif args[\"network\"][\"type\"] == \"unet\":\n",
    "    get_net_fxn = get_unet\n",
    "    train_fxn = train.train_unet\n",
    "elif args[\"network\"][\"type\"] == \"relnet only\":\n",
    "    get_net_fxn = get_relnet\n",
    "    train_fxn = train.train_relnet\n",
    "elif args[\"network\"][\"type\"] == \"contrastive\":\n",
    "    get_net_fxn = get_contra_net\n",
    "    train_fxn = train.train_contranet\n",
    "elif args[\"network\"][\"type\"] == \"iterative with attention over patch proposals\":\n",
    "    get_net_fxn = get_patch_net\n",
    "    train_fxn = train.train_patchnet\n",
    "else:\n",
    "    raise NotImplementedError(\"bad network type\")\n",
    "\n",
    "network = get_net_fxn(net_HPs=args[\"network\"], dataset=dataset)\n",
    "paths=args[\"paths\"]\n",
    "loss_settings=args[\"loss\"]\n",
    "optimizer_settings=args[\"optimizer\"]"
   ]
  },
  {
   "cell_type": "code",
   "execution_count": null,
   "id": "cd9da2de",
   "metadata": {
    "hidden": true
   },
   "outputs": [],
   "source": [
    "model_artifact = wandb.Artifact(\"sprelnet\", type=\"model\", description=\"segmenter with spatial relations\")\n",
    "model_artifact.add_dir(paths[\"model weights directory\"])\n",
    "\n",
    "wab.define_metrics([\"test loss\", \"test dice\"])\n",
    "\n",
    "G = network.G\n",
    "relnet = network.relnet\n",
    "if network.type == \"adversarial\":\n",
    "    D = network.D_XY\n",
    "loss_weights = loss_settings[\"weights\"]\n",
    "\n",
    "# setup dataloaders\n",
    "batch_size = dataloaders[\"train\"].batch_size\n",
    "N_train = len(dataset[\"train datapoints\"])\n",
    "N_test = len(dataset[\"test datapoints\"])\n",
    "bce_loss = losses.get_bce_loss(dataset)\n",
    "\n",
    "G_optim = bnb.optim.Adam8bit(G.parameters(), lr=float(optimizer_settings[\"G learning rate\"]))\n",
    "if network.type == \"adversarial\":\n",
    "    DR_optim = bnb.optim.Adam8bit(itertools.chain(relnet.parameters(), D.parameters()),\n",
    "        lr=float(optimizer_settings[\"D learning rate\"]))\n",
    "else:\n",
    "    DR_optim = bnb.optim.Adam8bit(relnet.parameters(), lr=float(optimizer_settings[\"relnet learning rate\"]))\n",
    "\n",
    "\n",
    "for epoch in range(1, optimizer_settings[\"epochs\"]+1):\n",
    "    pxy_true_sum, pxy_fake_sum, rel_true_sum, rel_fake_sum, seg_loss_sum = 0,0, 0,0, 0\n",
    "    n_batches = math.ceil(N_train/batch_size)\n",
    "    rel_weight = losses.determine_loss_weight(\"relation score\", epoch=epoch, loss_settings=loss_settings)\n",
    "\n",
    "    for batch in dataloaders[\"train\"]:\n",
    "        X,Y_gt = batch\n",
    "        Y_logits = G(X)\n",
    "        seg_loss = bce_loss(Y_logits, Y_gt)\n",
    "\n",
    "        Y_hat = torch.sigmoid(Y_logits)\n",
    "        if network.type == \"adversarial\":\n",
    "            p_xy_fake = D(X, Y_hat).mean()\n",
    "            pxy_fake_sum += p_xy_fake.item()\n",
    "\n",
    "        rel_fake = relnet(Y_hat).mean()\n",
    "        rel_fake_sum += rel_fake.item()\n",
    "        seg_loss_sum += seg_loss.item()\n",
    "\n",
    "        if network.type == \"adversarial\":\n",
    "            G_loss = seg_loss * loss_weights[\"cross entropy\"] + rel_fake * rel_weight - p_xy_fake\n",
    "        else:\n",
    "            G_loss = seg_loss * loss_weights[\"cross entropy\"] + rel_fake * rel_weight\n",
    "\n",
    "        G_optim.zero_grad()\n",
    "        G_loss.backward(retain_graph=True)\n",
    "        G_optim.step()\n",
    "\n",
    "\n",
    "\n",
    "\n",
    "        if network.type == \"adversarial\":\n",
    "            p_xy_true = D(X, Y_gt).mean()\n",
    "            p_xy_fake = D(X, Y_hat.detach()).mean()\n",
    "            pxy_true_sum += p_xy_true.item()\n",
    "        rel_true = relnet(Y_gt).mean() * loss_weights[\"relation score\"]\n",
    "        rel_true_sum += rel_true.item()\n",
    "\n",
    "        if network.type == \"adversarial\":\n",
    "            DR_loss = p_xy_fake - p_xy_true + rel_true\n",
    "        else:\n",
    "            DR_loss = rel_true\n",
    "\n",
    "        DR_optim.zero_grad()\n",
    "        DR_loss.backward()\n",
    "        sparse_reg, smooth_reg = losses.get_multiscale_kernel_regs(relnet, loss_weights)\n",
    "        sparse_reg.backward()\n",
    "        smooth_reg.backward()\n",
    "        util.mask_identity_grad_in_kernel(relnet)\n",
    "        DR_optim.step()\n",
    "        break\n",
    "    break"
   ]
  },
  {
   "cell_type": "markdown",
   "id": "fcd2d6c7",
   "metadata": {},
   "source": [
    "## Slurm"
   ]
  },
  {
   "cell_type": "code",
   "execution_count": null,
   "id": "1185face",
   "metadata": {},
   "outputs": [],
   "source": [
    "import mmdet.utils.job_mgmt as omm_util\n",
    "importlib.reload(omm_util)"
   ]
  },
  {
   "cell_type": "markdown",
   "id": "c49db6ac",
   "metadata": {
    "heading_collapsed": true
   },
   "source": [
    "### COCO"
   ]
  },
  {
   "cell_type": "code",
   "execution_count": null,
   "id": "993b50f4",
   "metadata": {
    "hidden": true
   },
   "outputs": [],
   "source": [
    "https://gist.github.com/mkocabas/a6177fc00315403d31572e17700d7fd9\n",
    "cd images\n",
    "wget http://images.cocodataset.org/zips/train2017.zip\n",
    "wget http://images.cocodataset.org/zips/val2017.zip\n",
    "wget http://images.cocodataset.org/zips/test2017.zip\n",
    "wget http://images.cocodataset.org/zips/unlabeled2017.zip\n",
    "unzip -n val2017.zip\n",
    "cd ../\n",
    "wget http://images.cocodataset.org/annotations/annotations_trainval2017.zip\n",
    "wget http://images.cocodataset.org/annotations/stuff_annotations_trainval2017.zip\n",
    "wget http://images.cocodataset.org/annotations/image_info_test2017.zip\n",
    "wget http://images.cocodataset.org/annotations/image_info_unlabeled2017.zip\n",
    "unzip"
   ]
  },
  {
   "cell_type": "markdown",
   "id": "35c646b0",
   "metadata": {},
   "source": [
    "### New heading"
   ]
  },
  {
   "cell_type": "code",
   "execution_count": null,
   "id": "eefd63e6",
   "metadata": {},
   "outputs": [],
   "source": [
    "job = \"mnist_grid_02_test\"\n",
    "logs, errs = omm_util.print_job_log(job), omm_util.print_job_err(job)\n",
    "logs, errs"
   ]
  },
  {
   "cell_type": "code",
   "execution_count": 121,
   "id": "15d6eb9a",
   "metadata": {},
   "outputs": [],
   "source": [
    "job_name = \"mnist_grid_02_test\"\n",
    "\n",
    "path = f\"{base_job_dir}/{job_name}/imgs\"\n",
    "if not osp.exists(path):\n",
    "    raise ValueError(f\"{path} does not exist\")\n",
    "img_paths = glob.glob(path+\"/*\")"
   ]
  },
  {
   "cell_type": "code",
   "execution_count": null,
   "id": "b141fc7b",
   "metadata": {},
   "outputs": [],
   "source": [
    "img_paths"
   ]
  },
  {
   "cell_type": "code",
   "execution_count": null,
   "id": "e73a5606",
   "metadata": {},
   "outputs": [],
   "source": [
    "omm_util.show_sample_result(job)"
   ]
  },
  {
   "cell_type": "code",
   "execution_count": null,
   "id": "f200016f",
   "metadata": {},
   "outputs": [],
   "source": [
    "logs[-20:]"
   ]
  },
  {
   "cell_type": "code",
   "execution_count": 114,
   "id": "00aa7ef7",
   "metadata": {
    "scrolled": false
   },
   "outputs": [],
   "source": [
    "metrics = [\"bbox_mAP\", \"bbox_mAP_50\", \"bbox_mAP_75\"]\n",
    "jobs = [\"faster_rcnn_20200130-047c8118\", \"mnist_grid_01\"]#, \"mnist_grid_02\"]\n",
    "table = omm_util.collate_metrics_for_jobs(metrics, jobs)\n",
    "table"
   ]
  },
  {
   "cell_type": "code",
   "execution_count": null,
   "id": "a49a0473",
   "metadata": {},
   "outputs": [],
   "source": [
    "python mmdet/demo/simple_demo.py"
   ]
  },
  {
   "cell_type": "code",
   "execution_count": null,
   "id": "b23c6ed4",
   "metadata": {},
   "outputs": [],
   "source": [
    "sh clintonw_train.sh frc_mn ~/code/mmdet/configs/mnist_grid/faster_rcnn_r50_fpn_1x_mnist.py\n",
    "sh clintonw_train.sh frc_mn2 ~/code/mmdet/configs/mnist_grid/faster_rcnn_r50_fpn_1x_mnist.py\n",
    "sh clintonw_train.sh frc_coco ~/code/mmdet/configs/faster_rcnn/faster_rcnn_r50_fpn_1x_coco.py\n",
    "sh clintonw_train.sh frc_coc2 ~/code/mmdet/configs/faster_rcnn/faster_rcnn_r50_fpn_1x_coco.py\n",
    "\n",
    "sh clintonw_test.sh mnist_grid faster_rcnn_r50_fpn_1x_mnist 01\n",
    "sh clintonw_test.sh mnist_grid faster_rcnn_r50_fpn_1x_mnist 02\n",
    "sh clintonw_test.sh faster_rcnn faster_rcnn_r50_fpn_1x_coco 20200130-047c8118\n",
    "\n",
    "cp frc_mn/latest.pth ~/code/mmdet/checkpoints/faster_rcnn_r50_fpn_1x_mnist_01.pth\n",
    "cp frc_mn2/latest.pth ~/code/mmdet/checkpoints/faster_rcnn_r50_fpn_1x_mnist_02.pth"
   ]
  },
  {
   "cell_type": "code",
   "execution_count": null,
   "id": "64aa11c3",
   "metadata": {},
   "outputs": [],
   "source": [
    "sh bbox_results.sh mnist_grid faster_rcnn_r50_fpn_1x_mnist 02 \\\n",
    "    /data/vision/polina/scratch/clintonw/datasets/mnist_grid/val/annotation_coco.json"
   ]
  },
  {
   "cell_type": "code",
   "execution_count": null,
   "id": "20215ffe",
   "metadata": {},
   "outputs": [],
   "source": [
    "sh slurm_analyze.sh mnist_grid faster_rcnn_r50_fpn_1x_mnist 02\n",
    "sh slurm_analyze.sh faster_rcnn faster_rcnn_r50_fpn_1x_coco 20200130-047c8118"
   ]
  },
  {
   "cell_type": "code",
   "execution_count": 218,
   "id": "6c1ece63",
   "metadata": {},
   "outputs": [
    {
     "name": "stdout",
     "output_type": "stream",
     "text": [
      "python tools/analysis_tools/analyze_logs.py plot_curve /data/vision/polina/users/clintonw/code/mmdet/results/frc_mn2/20211127_121842.log.json --keys loss_cls --legend loss_cls --out /data/vision/polina/users/clintonw/code/mmdet/results/frc_mn2/loss_cls.pdf\n"
     ]
    }
   ],
   "source": [
    "train_job = \"frc_mn2\"\n",
    "logpath = glob.glob(f\"{base_job_dir}/{train_job}/*.log.json\")[0]\n",
    "metrics = \"bbox_mAP\" #loss_cls\"\n",
    "outpath = osp.join(osp.dirname(logpath), f\"{metrics}.pdf\")\n",
    "print(f\"\"\"python tools/analysis_tools/analyze_logs.py plot_curve \\\n",
    "{logpath} --keys {metrics} --legend {metrics} --out {outpath}\"\"\")"
   ]
  },
  {
   "cell_type": "code",
   "execution_count": 155,
   "id": "d2a32b94",
   "metadata": {},
   "outputs": [],
   "source": [
    "#img_paths = glob.glob(base_job_dir+\"/faster_rcnn_20200130-047c8118_test/imgs/good/*\")\n",
    "img_paths = glob.glob(base_job_dir+\"/mnist_grid_02_test/imgs/good/*\")"
   ]
  },
  {
   "cell_type": "code",
   "execution_count": 201,
   "id": "565fba7c",
   "metadata": {},
   "outputs": [
    {
     "data": {
      "text/plain": [
       "<module 'sprelnet.data.mnist' from '/data/vision/polina/users/clintonw/code/sprelnet/sprelnet/data/mnist.py'>"
      ]
     },
     "execution_count": 201,
     "metadata": {},
     "output_type": "execute_result"
    }
   ],
   "source": [
    "importlib.reload(sprelnet.data.mnist)"
   ]
  },
  {
   "cell_type": "code",
   "execution_count": 202,
   "id": "efa23277",
   "metadata": {
    "scrolled": true
   },
   "outputs": [
    {
     "name": "stdout",
     "output_type": "stream",
     "text": [
      "loading annotations into memory...\n",
      "Done (t=0.10s)\n",
      "creating index...\n",
      "index created!\n"
     ]
    },
    {
     "data": {
      "image/png": "[encoded data removed]",
      "text/plain": [
       "<Figure size 720x576 with 1 Axes>"
      ]
     },
     "metadata": {
      "needs_background": "light"
     },
     "output_type": "display_data"
    }
   ],
   "source": [
    "img_path = img_paths[1]\n",
    "test_img = plt.imread(img_path)\n",
    "coco_id = osp.basename(img_path)[:-8]\n",
    "raw_img, anns, coco = sprelnet.data.mnist.fetch_mnist_grid_img(coco_id, with_anns=True)\n",
    "plt.imshow(raw_img, cmap=\"gray\"); plt.axis('off')\n",
    "coco.showAnns(anns)"
   ]
  },
  {
   "cell_type": "code",
   "execution_count": 203,
   "id": "ddfb6e9b",
   "metadata": {
    "scrolled": false
   },
   "outputs": [
    {
     "data": {
      "text/plain": [
       "<matplotlib.image.AxesImage at 0x7f31034d11d0>"
      ]
     },
     "execution_count": 203,
     "metadata": {},
     "output_type": "execute_result"
    },
    {
     "data": {
      "image/png": "[encoded data removed]",
      "text/plain": [
       "<Figure size 720x576 with 1 Axes>"
      ]
     },
     "metadata": {
      "needs_background": "light"
     },
     "output_type": "display_data"
    }
   ],
   "source": [
    "plt.imshow(test_img)"
   ]
  },
  {
   "cell_type": "code",
   "execution_count": null,
   "id": "1ba4357d",
   "metadata": {},
   "outputs": [],
   "source": [
    "python tools/analysis_tools/coco_error_analysis.py \\\n",
    "       results.bbox.json \\\n",
    "       results \\\n",
    "       --ann=data/coco/annotations/instances_val2017.json \\\n"
   ]
  },
  {
   "cell_type": "code",
   "execution_count": null,
   "id": "412869d3",
   "metadata": {},
   "outputs": [],
   "source": [
    "path = \"/data/vision/polina/users/clintonw/code/mmdet/configs/faster_rcnn/faster_rcnn_r50_fpn_1x_mnist.py\""
   ]
  },
  {
   "cell_type": "code",
   "execution_count": null,
   "id": "848a9d8b",
   "metadata": {},
   "outputs": [],
   "source": [
    "sh script_train.sh adv_mni\n",
    "sh script_train.sh patch_mni\n",
    "sh script_train.sh unet_mni\n",
    "sh script_train.sh van_pix\n",
    "sh script_train.sh van_mni\n",
    "sh script_train.sh rel_dbug"
   ]
  },
  {
   "cell_type": "code",
   "execution_count": null,
   "id": "a6bc6c59",
   "metadata": {},
   "outputs": [],
   "source": [
    "importlib.reload(util);"
   ]
  },
  {
   "cell_type": "code",
   "execution_count": null,
   "id": "7d268e56",
   "metadata": {},
   "outputs": [],
   "source": [
    "util.end_slurm_jobs([\"van_mni\"])"
   ]
  },
  {
   "cell_type": "code",
   "execution_count": null,
   "id": "95d5f77f",
   "metadata": {},
   "outputs": [],
   "source": [
    "#util.rename_job(\"rel_mni\", \"rel_mni_01\")\n",
    "util.delete_job_outputs(\"van_pix\")"
   ]
  },
  {
   "cell_type": "code",
   "execution_count": null,
   "id": "db259b30",
   "metadata": {},
   "outputs": [],
   "source": [
    "util.print_job_log(\"unet_mni\")"
   ]
  },
  {
   "cell_type": "code",
   "execution_count": null,
   "id": "0044ae34",
   "metadata": {},
   "outputs": [],
   "source": [
    "util.print_job_log(\"van_pix\")"
   ]
  },
  {
   "cell_type": "code",
   "execution_count": null,
   "id": "ca1a62d6",
   "metadata": {},
   "outputs": [],
   "source": [
    "util.print_job_log(\"patch_mni\")"
   ]
  },
  {
   "cell_type": "code",
   "execution_count": null,
   "id": "38df2267",
   "metadata": {},
   "outputs": [],
   "source": [
    "util.print_job_log(\"rel_dbug\")"
   ]
  },
  {
   "cell_type": "code",
   "execution_count": null,
   "id": "d71ba7b5",
   "metadata": {},
   "outputs": [],
   "source": [
    "wab.clear_failed_runs()"
   ]
  }
 ],
 "metadata": {
  "kernelspec": {
   "display_name": "Python 3 (ipykernel)",
   "language": "python",
   "name": "python3"
  },
  "language_info": {
   "codemirror_mode": {
    "name": "ipython",
    "version": 3
   },
   "file_extension": ".py",
   "mimetype": "text/x-python",
   "name": "python",
   "nbconvert_exporter": "python",
   "pygments_lexer": "ipython3",
   "version": "3.7.11"
  }
 },
 "nbformat": 4,
 "nbformat_minor": 5
}
