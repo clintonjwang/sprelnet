{
 "cells": [
  {
   "cell_type": "code",
   "execution_count": 1,
   "id": "a25c506c",
   "metadata": {},
   "outputs": [],
   "source": [
    "import importlib\n",
    "import numpy as np\n",
    "import os, re, math\n",
    "import matplotlib.pyplot as plt\n",
    "import seaborn as sns\n",
    "%matplotlib inline\n",
    "\n",
    "import torch\n",
    "nn = torch.nn\n",
    "F = torch.nn.functional\n",
    "torch.backends.cudnn.deterministic = True\n",
    "torch.backends.cudnn.benchmark = True"
   ]
  },
  {
   "cell_type": "code",
   "execution_count": 2,
   "id": "101f72a3",
   "metadata": {},
   "outputs": [
    {
     "name": "stdout",
     "output_type": "stream",
     "text": [
      "WARNING: TODO load goal state from path (called from \"reload goal state\")\n",
      "WARNING: replace \"append\" with \"concatenate\" (called from \"append to list-valued state variable\")\n",
      "WARNING: some definitions are missing return types (called from \"define expression\")\n",
      "WARNING: TODO get singular form from conjugations (called from \"get singular form\")\n",
      "WARNING: TODO check if object type is in pre-image (called from \"get event class\")\n",
      "WARNING: TODO: write action 'is the name of a descriptor for class' (called from \"parse type from string\")\n",
      "WARNING: deprecate - only declare conditional estimators and cache joint estimators when needed (called from \"create joint estimator for properties\")\n",
      "WARNING: some definitions have invalid actions (called from \"define expression\")\n"
     ]
    }
   ],
   "source": [
    "directories_path=\"/data/vision/polina/users/clintonw/code/amadeus/config/main_paths.yaml\"\n",
    "from time import sleep\n",
    "if 'A' in locals():\n",
    "    A[\"end threads\"] = True\n",
    "    A[\"active todo item\"] = None\n",
    "    sleep(.5)\n",
    "    A(\"clear your modules\")()\n",
    "import sys\n",
    "for m in list(sys.modules.keys()):\n",
    "    if m.startswith(\"am.\"):\n",
    "        del(sys.modules[m])\n",
    "import am.core.main\n",
    "A = am.core.main.Nestor(directories_path, module_load=\"full\")\n",
    "\n",
    "A(\"set figure DPI\")(300)\n",
    "A(\"ignore warnings\")()"
   ]
  },
  {
   "cell_type": "markdown",
   "id": "7590b629",
   "metadata": {},
   "source": [
    "## Interactive"
   ]
  },
  {
   "cell_type": "code",
   "execution_count": null,
   "id": "305d89b8",
   "metadata": {},
   "outputs": [],
   "source": [
    "import importlib\n",
    "importlib.reload(util)"
   ]
  },
  {
   "cell_type": "code",
   "execution_count": 3,
   "id": "6cfacd58",
   "metadata": {},
   "outputs": [],
   "source": [
    "import os, shutil, yaml, itertools, math, wandb\n",
    "import numpy as np\n",
    "import torch\n",
    "nn = torch.nn\n",
    "F = nn.functional\n",
    "\n",
    "from sprelnet import util, mnist\n",
    "from sprelnet.networks.sprelnet import get_adv_sprelnet\n",
    "\n",
    "ds_folder = '/data/vision/polina/scratch/clintonw/datasets'\n",
    "mnist_ds_path = os.path.join(ds_folder, \"mnist.bin\")\n",
    "multi_mnist_ds_path = os.path.join(ds_folder, 'multi-MNIST/ds_instance.bin')"
   ]
  },
  {
   "cell_type": "code",
   "execution_count": 49,
   "id": "3deed8d0",
   "metadata": {
    "scrolled": true
   },
   "outputs": [
    {
     "name": "stderr",
     "output_type": "stream",
     "text": [
      "Failed to detect the name of this notebook, you can set it manually with the WANDB_NOTEBOOK_NAME environment variable to enable code saving.\n",
      "\u001b[34m\u001b[1mwandb\u001b[0m: Currently logged in as: \u001b[33mclintonjwang\u001b[0m (use `wandb login --relogin` to force relogin)\n"
     ]
    },
    {
     "data": {
      "text/html": [
       "\n",
       "                    Syncing run <strong><a href=\"https://wandb.ai/clintonjwang/spatial_relations/runs/26knj2so\" target=\"_blank\">jupy_00</a></strong> to <a href=\"https://wandb.ai/clintonjwang/spatial_relations\" target=\"_blank\">Weights & Biases</a> (<a href=\"https://docs.wandb.com/integrations/jupyter.html\" target=\"_blank\">docs</a>).<br/>\n",
       "\n",
       "                "
      ],
      "text/plain": [
       "<IPython.core.display.HTML object>"
      ]
     },
     "metadata": {},
     "output_type": "display_data"
    },
    {
     "data": {
      "text/plain": [
       "'clintonjwang/spatial_relations/26knj2so'"
      ]
     },
     "execution_count": 49,
     "metadata": {},
     "output_type": "execute_result"
    }
   ],
   "source": [
    "class cmd_args:\n",
    "    config_path = \"/data/vision/polina/users/clintonw/code/sprelnet/configs/van_01.yaml\"\n",
    "    job_id = \"jupy_00\"\n",
    "with open(cmd_args.config_path, 'r') as stream:\n",
    "    args = yaml.safe_load(stream)\n",
    "\n",
    "if \"tags\" not in args:\n",
    "    args[\"tags\"] = [args[\"network\"][\"type\"]]\n",
    "\n",
    "config = {k:args[k] for k in [\"network\", \"loss\", \"optimizer\", \"data loading\"]}\n",
    "run = wandb.init(project=\"spatial_relations\", config=config,\n",
    "    tags=args[\"tags\"], name=cmd_args.job_id) #entity=\"clintonjwang\",\n",
    "run.path"
   ]
  },
  {
   "cell_type": "code",
   "execution_count": null,
   "id": "d2df332b",
   "metadata": {},
   "outputs": [],
   "source": [
    "paths=args[\"paths\"]\n",
    "loss_settings=args[\"loss\"]\n",
    "optimizer_settings=args[\"optimizer\"]"
   ]
  },
  {
   "cell_type": "code",
   "execution_count": null,
   "id": "c01c690c",
   "metadata": {},
   "outputs": [],
   "source": []
  },
  {
   "cell_type": "markdown",
   "id": "fcd2d6c7",
   "metadata": {},
   "source": [
    "## Slurm"
   ]
  },
  {
   "cell_type": "code",
   "execution_count": null,
   "id": "2564899a",
   "metadata": {},
   "outputs": [],
   "source": [
    "sh script_train.sh unet_01\n",
    "sh script_train.sh adv_01\n",
    "sh script_train.sh van_01"
   ]
  },
  {
   "cell_type": "code",
   "execution_count": 27,
   "id": "96a524e1",
   "metadata": {},
   "outputs": [],
   "source": [
    "importlib.reload(mnist);"
   ]
  },
  {
   "cell_type": "code",
   "execution_count": null,
   "id": "fa2bfb77",
   "metadata": {},
   "outputs": [],
   "source": [
    "util.delete_job_outputs(\"unet_*\")"
   ]
  },
  {
   "cell_type": "code",
   "execution_count": 47,
   "id": "beb091bd",
   "metadata": {},
   "outputs": [
    {
     "name": "stdout",
     "output_type": "stream",
     "text": [
      "deleting /data/vision/polina/users/clintonw/code/sprelnet/job_outputs/van_01\n"
     ]
    }
   ],
   "source": [
    "util.delete_job_outputs(\"van_*\")"
   ]
  },
  {
   "cell_type": "code",
   "execution_count": 48,
   "id": "4b3952e8",
   "metadata": {},
   "outputs": [
    {
     "name": "stdout",
     "output_type": "stream",
     "text": [
      "deleting /data/vision/polina/users/clintonw/code/sprelnet/job_outputs/adv_01\n"
     ]
    }
   ],
   "source": [
    "util.delete_job_outputs(\"adv_*\")"
   ]
  },
  {
   "cell_type": "code",
   "execution_count": null,
   "id": "849d9949",
   "metadata": {},
   "outputs": [],
   "source": [
    "util.print_job_log(\"adv_01\")"
   ]
  },
  {
   "cell_type": "code",
   "execution_count": null,
   "id": "1560ee04",
   "metadata": {},
   "outputs": [],
   "source": [
    "util.print_job_log(\"van_01\")"
   ]
  },
  {
   "cell_type": "markdown",
   "id": "7f0bd087",
   "metadata": {},
   "source": [
    "## Figures"
   ]
  },
  {
   "cell_type": "code",
   "execution_count": null,
   "id": "6e19fa70",
   "metadata": {},
   "outputs": [],
   "source": []
  },
  {
   "cell_type": "code",
   "execution_count": null,
   "id": "b5a62288",
   "metadata": {},
   "outputs": [],
   "source": []
  }
 ],
 "metadata": {
  "kernelspec": {
   "display_name": "Python 3",
   "language": "python",
   "name": "python3"
  },
  "language_info": {
   "codemirror_mode": {
    "name": "ipython",
    "version": 3
   },
   "file_extension": ".py",
   "mimetype": "text/x-python",
   "name": "python",
   "nbconvert_exporter": "python",
   "pygments_lexer": "ipython3",
   "version": "3.9.1"
  }
 },
 "nbformat": 4,
 "nbformat_minor": 5
}
