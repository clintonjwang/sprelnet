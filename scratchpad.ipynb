{
 "cells": [
  {
   "cell_type": "code",
   "execution_count": 1,
   "id": "dde33ce9",
   "metadata": {},
   "outputs": [],
   "source": [
    "import os, shutil, yaml, itertools, math, wandb\n",
    "import numpy as np\n",
    "import importlib\n",
    "import os, re, math\n",
    "import matplotlib.pyplot as plt\n",
    "import seaborn as sns\n",
    "%matplotlib inline\n",
    "\n",
    "import torch\n",
    "nn = torch.nn\n",
    "F = torch.nn.functional\n",
    "torch.backends.cudnn.deterministic = True\n",
    "torch.backends.cudnn.benchmark = True\n",
    "\n",
    "from sprelnet import train\n",
    "\n",
    "from sprelnet import util, wab, visualize, losses\n",
    "from sprelnet.data import mnist, pixels\n",
    "from sprelnet.networks.relations import get_relnet\n",
    "from sprelnet.networks.unet import get_unet\n",
    "from sprelnet.networks.adversarial import get_adv_sprelnet\n",
    "from sprelnet.networks.contrastive import get_contra_net\n",
    "from sprelnet.networks.patch_net import get_patch_net\n",
    "\n",
    "ds_folder = '/data/vision/polina/scratch/clintonw/datasets'\n",
    "multi_mnist_ds_path = os.path.join(ds_folder, 'multi-MNIST/ds_instance.bin')\n",
    "pixel_ds_path = os.path.join(ds_folder, 'pixel_ds.bin')"
   ]
  },
  {
   "cell_type": "code",
   "execution_count": null,
   "id": "f088dd8a",
   "metadata": {},
   "outputs": [],
   "source": [
    "pixels.create_pixel_dataset();"
   ]
  },
  {
   "cell_type": "code",
   "execution_count": null,
   "id": "d19e01fc",
   "metadata": {},
   "outputs": [],
   "source": [
    "ds = util.load_binary_file(multi_mnist_ds_path)\n",
    "ds[\"legend\"]"
   ]
  },
  {
   "cell_type": "code",
   "execution_count": null,
   "id": "0708ab34",
   "metadata": {},
   "outputs": [],
   "source": [
    "ds = util.load_binary_file(pixel_ds_path)\n",
    "ds[\"datapoint loader\"]= lambda dp: (dp.sum(0, keepdim=True).cuda(), (dp != 0).float().cuda())\n",
    "util.save_binary_file(data=ds, path=pixel_ds_path)"
   ]
  },
  {
   "cell_type": "code",
   "execution_count": null,
   "id": "08c76d1d",
   "metadata": {},
   "outputs": [],
   "source": [
    "import importlib\n",
    "importlib.reload(visualize)"
   ]
  },
  {
   "cell_type": "markdown",
   "id": "7590b629",
   "metadata": {
    "heading_collapsed": true
   },
   "source": [
    "## Interactive"
   ]
  },
  {
   "cell_type": "code",
   "execution_count": 18,
   "id": "343a8b8b",
   "metadata": {
    "hidden": true
   },
   "outputs": [
    {
     "name": "stderr",
     "output_type": "stream",
     "text": [
      "Failed to detect the name of this notebook, you can set it manually with the WANDB_NOTEBOOK_NAME environment variable to enable code saving.\n",
      "\u001b[34m\u001b[1mwandb\u001b[0m: Currently logged in as: \u001b[33mclintonjwang\u001b[0m (use `wandb login --relogin` to force relogin)\n"
     ]
    },
    {
     "data": {
      "text/html": [
       "\n",
       "                    Syncing run <strong><a href=\"https://wandb.ai/spatial_relations/main_project/runs/1ade6vd6\" target=\"_blank\">rel_dbug</a></strong> to <a href=\"https://wandb.ai/spatial_relations/main_project\" target=\"_blank\">Weights & Biases</a> (<a href=\"https://docs.wandb.com/integrations/jupyter.html\" target=\"_blank\">docs</a>).<br/>\n",
       "\n",
       "                "
      ],
      "text/plain": [
       "<IPython.core.display.HTML object>"
      ]
     },
     "metadata": {},
     "output_type": "display_data"
    }
   ],
   "source": [
    "class cmd_args:\n",
    "    job_id = \"rel_dbug\"\n",
    "    config_path = f\"/data/vision/polina/users/clintonw/code/sprelnet/configs/{job_id}.yaml\"\n",
    "    p = f\"{util.base_job_dir}/{job_id}\"\n",
    "    if not os.path.exists(p):\n",
    "        os.makedirs(p)\n",
    "with open(cmd_args.config_path, 'r') as stream:\n",
    "    args = yaml.safe_load(stream)\n",
    "\n",
    "run, args = train.prep_run(cmd_args, args)\n",
    "\n",
    "if args[\"data loading\"][\"dataset\"] == \"MNIST grid\":\n",
    "    dataset = mnist.get_multi_mnist(run=run)\n",
    "else:\n",
    "    raise NotImplementedError(\"bad dataset\")\n",
    "\n",
    "dataloaders = util.get_dataloaders(dataset, batch_size=args[\"data loading\"][\"batch size\"])"
   ]
  },
  {
   "cell_type": "code",
   "execution_count": 37,
   "id": "50317964",
   "metadata": {
    "hidden": true
   },
   "outputs": [],
   "source": [
    "dataset = mnist.get_multi_mnist(run=run)\n",
    "get_net_fxn = get_relnet\n",
    "train_fxn = train.train_relnet"
   ]
  },
  {
   "cell_type": "code",
   "execution_count": 38,
   "id": "e362fe99",
   "metadata": {
    "hidden": true
   },
   "outputs": [],
   "source": [
    "network = get_net_fxn(net_HPs=args[\"network\"], dataset=dataset)\n",
    "paths=args[\"paths\"]\n",
    "loss_settings=args[\"loss\"]\n",
    "optimizer_settings=args[\"optimizer\"]"
   ]
  },
  {
   "cell_type": "code",
   "execution_count": 44,
   "id": "10ab3112",
   "metadata": {
    "hidden": true
   },
   "outputs": [],
   "source": [
    "wab.log_relnet(network, dataset)"
   ]
  },
  {
   "cell_type": "code",
   "execution_count": null,
   "id": "608fdc46",
   "metadata": {
    "hidden": true
   },
   "outputs": [],
   "source": [
    "network = get_relnet(net_HPs=args[\"network\"], dataset=dataset)\n",
    "\n",
    "train.train_relnet(paths=args[\"paths\"],\n",
    "    loss_settings=args[\"loss\"], optimizer_settings=args[\"optimizer\"],\n",
    "    dataloaders=dataloaders, network=network, dataset=dataset)"
   ]
  },
  {
   "cell_type": "code",
   "execution_count": null,
   "id": "771b213e",
   "metadata": {
    "hidden": true
   },
   "outputs": [],
   "source": []
  },
  {
   "cell_type": "code",
   "execution_count": null,
   "id": "9fd65a9d",
   "metadata": {
    "hidden": true
   },
   "outputs": [],
   "source": [
    "legend = mnist.get_multi_mnist_legend(key=\"index\")\n",
    "for label_pair in util.label_pairs_of_interest:\n",
    "    img = visualize.get_multiscale_likelihood_kernel_composite(relnet, *label_pair)\n",
    "    wandb.log({f\"kernel ({legend[label_pair[0]]}-{legend[label_pair[1]]})\": img})"
   ]
  },
  {
   "cell_type": "code",
   "execution_count": null,
   "id": "d2df332b",
   "metadata": {
    "hidden": true
   },
   "outputs": [],
   "source": [
    "paths=args[\"paths\"]\n",
    "loss_settings=args[\"loss\"]\n",
    "optimizer_settings=args[\"optimizer\"]"
   ]
  },
  {
   "cell_type": "markdown",
   "id": "fcd2d6c7",
   "metadata": {},
   "source": [
    "## Slurm"
   ]
  },
  {
   "cell_type": "code",
   "execution_count": null,
   "id": "2b412173",
   "metadata": {},
   "outputs": [],
   "source": [
    "sh script_train.sh unet_mni\n",
    "sh script_train.sh adv_mni\n",
    "\n",
    "sh script_train.sh patch_mni\n",
    "sh script_train.sh van_dbug\n",
    "sh script_train.sh van_mni\n",
    "sh script_train.sh unet_pix\n",
    "sh script_train.sh van_pix\n",
    "sh script_train.sh rel_mni"
   ]
  },
  {
   "cell_type": "code",
   "execution_count": null,
   "id": "b4bf8248",
   "metadata": {},
   "outputs": [],
   "source": [
    "importlib.reload(util);"
   ]
  },
  {
   "cell_type": "code",
   "execution_count": null,
   "id": "74a98f33",
   "metadata": {},
   "outputs": [],
   "source": [
    "util.end_slurm_jobs([\"van_mni\"])"
   ]
  },
  {
   "cell_type": "code",
   "execution_count": 4,
   "id": "23ef5ebe",
   "metadata": {
    "scrolled": true
   },
   "outputs": [],
   "source": [
    "#util.rename_job(\"rel_mni\", \"rel_mni_01\")\n",
    "util.delete_job_outputs(\"patch_mni\")"
   ]
  },
  {
   "cell_type": "code",
   "execution_count": null,
   "id": "5134d60f",
   "metadata": {},
   "outputs": [],
   "source": [
    "util.print_job_log(\"unet_pix\")"
   ]
  },
  {
   "cell_type": "code",
   "execution_count": null,
   "id": "15bcb48e",
   "metadata": {},
   "outputs": [],
   "source": [
    "util.print_job_log(\"van_dbug\")"
   ]
  },
  {
   "cell_type": "code",
   "execution_count": null,
   "id": "30937f73",
   "metadata": {},
   "outputs": [],
   "source": [
    "util.print_job_log(\"patch_mni\")"
   ]
  },
  {
   "cell_type": "code",
   "execution_count": null,
   "id": "2efc74fa",
   "metadata": {},
   "outputs": [],
   "source": [
    "util.print_job_log(\"van_mni\")"
   ]
  },
  {
   "cell_type": "code",
   "execution_count": null,
   "id": "d71ba7b5",
   "metadata": {},
   "outputs": [],
   "source": [
    "wab.clear_failed_runs()"
   ]
  },
  {
   "cell_type": "markdown",
   "id": "7f0bd087",
   "metadata": {},
   "source": [
    "## Figures"
   ]
  },
  {
   "cell_type": "code",
   "execution_count": null,
   "id": "6e19fa70",
   "metadata": {},
   "outputs": [],
   "source": []
  },
  {
   "cell_type": "code",
   "execution_count": null,
   "id": "b5a62288",
   "metadata": {},
   "outputs": [],
   "source": []
  }
 ],
 "metadata": {
  "kernelspec": {
   "display_name": "Python 3",
   "language": "python",
   "name": "python3"
  },
  "language_info": {
   "codemirror_mode": {
    "name": "ipython",
    "version": 3
   },
   "file_extension": ".py",
   "mimetype": "text/x-python",
   "name": "python",
   "nbconvert_exporter": "python",
   "pygments_lexer": "ipython3",
   "version": "3.9.1"
  }
 },
 "nbformat": 4,
 "nbformat_minor": 5
}
