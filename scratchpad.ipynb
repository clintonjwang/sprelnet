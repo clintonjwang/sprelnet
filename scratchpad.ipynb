{
 "cells": [
  {
   "cell_type": "code",
   "execution_count": 1,
   "id": "a25c506c",
   "metadata": {},
   "outputs": [],
   "source": [
    "import importlib\n",
    "import numpy as np\n",
    "import os, re, math\n",
    "import matplotlib.pyplot as plt\n",
    "import seaborn as sns\n",
    "%matplotlib inline\n",
    "\n",
    "import torch\n",
    "nn = torch.nn\n",
    "F = torch.nn.functional\n",
    "torch.backends.cudnn.deterministic = True\n",
    "torch.backends.cudnn.benchmark = True"
   ]
  },
  {
   "cell_type": "code",
   "execution_count": 2,
   "id": "101f72a3",
   "metadata": {},
   "outputs": [
    {
     "name": "stdout",
     "output_type": "stream",
     "text": [
      "WARNING: TODO load goal state from path (called from \"reload goal state\")\n",
      "WARNING: replace \"append\" with \"concatenate\" (called from \"append to list-valued state variable\")\n",
      "WARNING: some definitions are missing return types (called from \"define expression\")\n",
      "WARNING: TODO get singular form from conjugations (called from \"get singular form\")\n",
      "WARNING: TODO check if object type is in pre-image (called from \"get event class\")\n",
      "WARNING: TODO: write action 'is the name of a descriptor for class' (called from \"parse type from string\")\n",
      "WARNING: deprecate - only declare conditional estimators and cache joint estimators when needed (called from \"create joint estimator for properties\")\n",
      "WARNING: some definitions have invalid actions (called from \"define expression\")\n"
     ]
    }
   ],
   "source": [
    "directories_path=\"/data/vision/polina/users/clintonw/code/amadeus/config/main_paths.yaml\"\n",
    "from time import sleep\n",
    "if 'A' in locals():\n",
    "    A[\"end threads\"] = True\n",
    "    A[\"active todo item\"] = None\n",
    "    sleep(.5)\n",
    "    A(\"clear your modules\")()\n",
    "import sys\n",
    "for m in list(sys.modules.keys()):\n",
    "    if m.startswith(\"am.\"):\n",
    "        del(sys.modules[m])\n",
    "import am.core.main\n",
    "A = am.core.main.Nestor(directories_path, module_load=\"full\")\n",
    "\n",
    "A(\"set figure DPI\")(300)\n",
    "A(\"ignore warnings\")()"
   ]
  },
  {
   "cell_type": "markdown",
   "id": "7590b629",
   "metadata": {},
   "source": [
    "## Interactive"
   ]
  },
  {
   "cell_type": "code",
   "execution_count": null,
   "id": "305d89b8",
   "metadata": {},
   "outputs": [],
   "source": [
    "import importlib\n",
    "importlib.reload(util)"
   ]
  },
  {
   "cell_type": "code",
   "execution_count": 3,
   "id": "6cfacd58",
   "metadata": {},
   "outputs": [],
   "source": [
    "import os, shutil, yaml, itertools, math, wandb\n",
    "import numpy as np\n",
    "import torch\n",
    "nn = torch.nn\n",
    "F = nn.functional\n",
    "\n",
    "from sprelnet import util, mnist\n",
    "from sprelnet.networks.sprelnet import get_adv_sprelnet\n",
    "\n",
    "ds_folder = '/data/vision/polina/scratch/clintonw/datasets'\n",
    "mnist_ds_path = os.path.join(ds_folder, \"mnist.bin\")\n",
    "multi_mnist_ds_path = os.path.join(ds_folder, 'multi-MNIST/ds_instance.bin')"
   ]
  },
  {
   "cell_type": "code",
   "execution_count": 41,
   "id": "f35f5a36",
   "metadata": {},
   "outputs": [],
   "source": [
    "dataset = util.load_binary_file(multi_mnist_ds_path)\n",
    "dataset[\"datapoint loader\"] = lambda dp: (torch.load(dp[\"image path\"]).cuda()/255., torch.load(dp[\"seg path\"]).float().cuda())\n",
    "util.save_binary_file(data=dataset, path=multi_mnist_ds_path)"
   ]
  },
  {
   "cell_type": "code",
   "execution_count": 4,
   "id": "f3bd7e09",
   "metadata": {},
   "outputs": [
    {
     "name": "stderr",
     "output_type": "stream",
     "text": [
      "Failed to detect the name of this notebook, you can set it manually with the WANDB_NOTEBOOK_NAME environment variable to enable code saving.\n",
      "\u001b[34m\u001b[1mwandb\u001b[0m: Currently logged in as: \u001b[33mclintonjwang\u001b[0m (use `wandb login --relogin` to force relogin)\n"
     ]
    },
    {
     "data": {
      "text/html": [
       "\n",
       "                    Syncing run <strong><a href=\"https://wandb.ai/clintonjwang/jupy_00/runs/3vkd7nog\" target=\"_blank\">wobbly-waterfall-2</a></strong> to <a href=\"https://wandb.ai/clintonjwang/jupy_00\" target=\"_blank\">Weights & Biases</a> (<a href=\"https://docs.wandb.com/integrations/jupyter.html\" target=\"_blank\">docs</a>).<br/>\n",
       "\n",
       "                "
      ],
      "text/plain": [
       "<IPython.core.display.HTML object>"
      ]
     },
     "metadata": {},
     "output_type": "display_data"
    },
    {
     "name": "stdout",
     "output_type": "stream",
     "text": [
      "Starting training\n"
     ]
    }
   ],
   "source": [
    "class cmd_args:\n",
    "    config_path = \"/data/vision/polina/users/clintonw/code/sprelnet/run_config.yaml\"\n",
    "    job_id = \"jupy_00\"\n",
    "with open(cmd_args.config_path, 'r') as stream:\n",
    "    args = yaml.safe_load(stream)\n",
    "\n",
    "wandb.init(project=cmd_args.job_id, entity=\"clintonjwang\")\n",
    "\n",
    "paths=args[\"paths\"]\n",
    "loss_settings=args[\"loss\"]\n",
    "optimizer_settings=args[\"optimizer\"]"
   ]
  },
  {
   "cell_type": "code",
   "execution_count": null,
   "id": "d2df332b",
   "metadata": {},
   "outputs": [],
   "source": []
  },
  {
   "cell_type": "markdown",
   "id": "fcd2d6c7",
   "metadata": {},
   "source": [
    "## Slurm"
   ]
  },
  {
   "cell_type": "markdown",
   "id": "7de1b055",
   "metadata": {},
   "source": [
    "sh script_train.sh adv_01"
   ]
  },
  {
   "cell_type": "code",
   "execution_count": 27,
   "id": "96a524e1",
   "metadata": {},
   "outputs": [],
   "source": [
    "importlib.reload(mnist);"
   ]
  },
  {
   "cell_type": "code",
   "execution_count": null,
   "id": "6cdc20e0",
   "metadata": {},
   "outputs": [],
   "source": [
    "util"
   ]
  },
  {
   "cell_type": "code",
   "execution_count": 16,
   "id": "ff1f87ce",
   "metadata": {},
   "outputs": [
    {
     "name": "stdout",
     "output_type": "stream",
     "text": [
      "deleting /data/vision/polina/users/clintonw/code/sprelnet/job_outputs/unet_01\n"
     ]
    }
   ],
   "source": [
    "util.delete_job_outputs(\"unet_*\")"
   ]
  },
  {
   "cell_type": "code",
   "execution_count": 44,
   "id": "81af7806",
   "metadata": {
    "scrolled": true
   },
   "outputs": [
    {
     "name": "stdout",
     "output_type": "stream",
     "text": [
      "deleting /data/vision/polina/users/clintonw/code/sprelnet/job_outputs/adv_01\n"
     ]
    }
   ],
   "source": [
    "util.delete_job_outputs(\"adv_*\")"
   ]
  },
  {
   "cell_type": "code",
   "execution_count": 45,
   "id": "25a06129",
   "metadata": {
    "scrolled": true
   },
   "outputs": [
    {
     "data": {
      "text/plain": [
       "['wandb: Currently logged in as: clintonjwang (use `wandb login --relogin` to force relogin)\\n',\n",
       " 'wandb: Tracking run with wandb version 0.12.6\\n',\n",
       " 'wandb: Syncing run vibrant-fog-1\\n',\n",
       " 'wandb:  View project at https://wandb.ai/clintonjwang/spatial_relations\\n',\n",
       " 'wandb:  View run at https://wandb.ai/clintonjwang/spatial_relations/runs/3xchmyqj\\n',\n",
       " 'wandb: Run data is saved locally in /data/vision/polina/users/clintonw/code/sprelnet/sprelnet/wandb/run-20211028_142341-3xchmyqj\\n',\n",
       " 'wandb: Run `wandb offline` to turn off syncing.\\n']"
      ]
     },
     "execution_count": 45,
     "metadata": {},
     "output_type": "execute_result"
    }
   ],
   "source": [
    "util.print_job_log(\"adv_01\")"
   ]
  },
  {
   "cell_type": "code",
   "execution_count": 17,
   "id": "d3fbdd98",
   "metadata": {
    "scrolled": false
   },
   "outputs": [
    {
     "data": {
      "text/plain": [
       "['wandb: Currently logged in as: clintonjwang (use `wandb login --relogin` to force relogin)\\n',\n",
       " 'wandb: wandb version 0.12.6 is available!  To upgrade, please run:\\n',\n",
       " 'wandb:  $ pip install wandb --upgrade\\n',\n",
       " 'wandb: Tracking run with wandb version 0.12.5\\n',\n",
       " 'wandb: Syncing run divine-pine-4\\n',\n",
       " 'wandb:  View project at https://wandb.ai/clintonjwang/unet_01\\n',\n",
       " 'wandb:  View run at https://wandb.ai/clintonjwang/unet_01/runs/2dfmps7a\\n',\n",
       " 'wandb: Run data is saved locally in /data/vision/polina/users/clintonw/code/sprelnet/sprelnet/wandb/run-20211027_211619-2dfmps7a\\n',\n",
       " 'wandb: Run `wandb offline` to turn off syncing.\\n']"
      ]
     },
     "execution_count": 17,
     "metadata": {},
     "output_type": "execute_result"
    }
   ],
   "source": [
    "util.print_job_log(\"unet_01\")"
   ]
  },
  {
   "cell_type": "code",
   "execution_count": null,
   "id": "a6861e62",
   "metadata": {},
   "outputs": [],
   "source": [
    "util.get_losses_for_spatial_relation_net_job(\"adv_03\")"
   ]
  },
  {
   "cell_type": "markdown",
   "id": "7f0bd087",
   "metadata": {},
   "source": [
    "## Figures"
   ]
  },
  {
   "cell_type": "code",
   "execution_count": null,
   "id": "6e19fa70",
   "metadata": {},
   "outputs": [],
   "source": []
  },
  {
   "cell_type": "code",
   "execution_count": null,
   "id": "b5a62288",
   "metadata": {},
   "outputs": [],
   "source": []
  }
 ],
 "metadata": {
  "kernelspec": {
   "display_name": "Python 3",
   "language": "python",
   "name": "python3"
  },
  "language_info": {
   "codemirror_mode": {
    "name": "ipython",
    "version": 3
   },
   "file_extension": ".py",
   "mimetype": "text/x-python",
   "name": "python",
   "nbconvert_exporter": "python",
   "pygments_lexer": "ipython3",
   "version": "3.9.1"
  }
 },
 "nbformat": 4,
 "nbformat_minor": 5
}
